{
 "cells": [
  {
   "cell_type": "markdown",
   "metadata": {},
   "source": [
    "# Script Demo\n",
    "\n",
    "This is a really really basic demo of lecture script generation. The way it works is you edit the example.md found in the files tab and then run the following snippet"
   ]
  },
  {
   "cell_type": "code",
   "execution_count": null,
   "metadata": {},
   "outputs": [],
   "source": [
    "from parse import parse_from_file\n",
    "from upload import upload_script\n",
    "import sys\n",
    "\n",
    "filepath = \"./example.md\"\n",
    "\n",
    "parsed = parse_from_file(filepath)\n",
    "if parsed:\n",
    "    response = upload_script(parsed)\n",
    "    print(response)\n",
    "else:\n",
    "    print(parsed)"
   ]
  }
 ],
 "metadata": {
  "kernelspec": {
   "display_name": ".venv",
   "language": "python",
   "name": "python3"
  },
  "language_info": {
   "name": "python",
   "version": "3.11.8"
  }
 },
 "nbformat": 4,
 "nbformat_minor": 2
}
